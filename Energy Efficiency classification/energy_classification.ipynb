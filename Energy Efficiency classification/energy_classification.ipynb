{
 "cells": [
  {
   "cell_type": "markdown",
   "metadata": {},
   "source": [
    "Dataset for this notebook you can find on the link: https://archive.ics.uci.edu/ml/datasets/Energy+efficiency"
   ]
  },
  {
   "cell_type": "code",
   "execution_count": 1,
   "metadata": {
    "collapsed": true
   },
   "outputs": [],
   "source": [
    "import numpy as np\n",
    "import pandas as pd\n",
    "import matplotlib.pyplot as plt\n",
    "%matplotlib inline"
   ]
  },
  {
   "cell_type": "code",
   "execution_count": 2,
   "metadata": {
    "collapsed": true
   },
   "outputs": [],
   "source": [
    "#Loading dataset\n",
    "energy_dataset = pd.read_excel('energy_dataset.xlsx')"
   ]
  },
  {
   "cell_type": "code",
   "execution_count": 3,
   "metadata": {
    "collapsed": false
   },
   "outputs": [
    {
     "data": {
      "text/html": [
       "<div>\n",
       "<table border=\"1\" class=\"dataframe\">\n",
       "  <thead>\n",
       "    <tr style=\"text-align: right;\">\n",
       "      <th></th>\n",
       "      <th>X1</th>\n",
       "      <th>X2</th>\n",
       "      <th>X3</th>\n",
       "      <th>X4</th>\n",
       "      <th>X5</th>\n",
       "      <th>X6</th>\n",
       "      <th>X7</th>\n",
       "      <th>X8</th>\n",
       "      <th>Y1</th>\n",
       "      <th>Y2</th>\n",
       "    </tr>\n",
       "  </thead>\n",
       "  <tbody>\n",
       "    <tr>\n",
       "      <th>0</th>\n",
       "      <td>0.98</td>\n",
       "      <td>514.5</td>\n",
       "      <td>294.0</td>\n",
       "      <td>110.25</td>\n",
       "      <td>7.0</td>\n",
       "      <td>2</td>\n",
       "      <td>0.0</td>\n",
       "      <td>0</td>\n",
       "      <td>15.55</td>\n",
       "      <td>21.33</td>\n",
       "    </tr>\n",
       "    <tr>\n",
       "      <th>1</th>\n",
       "      <td>0.98</td>\n",
       "      <td>514.5</td>\n",
       "      <td>294.0</td>\n",
       "      <td>110.25</td>\n",
       "      <td>7.0</td>\n",
       "      <td>3</td>\n",
       "      <td>0.0</td>\n",
       "      <td>0</td>\n",
       "      <td>15.55</td>\n",
       "      <td>21.33</td>\n",
       "    </tr>\n",
       "    <tr>\n",
       "      <th>2</th>\n",
       "      <td>0.98</td>\n",
       "      <td>514.5</td>\n",
       "      <td>294.0</td>\n",
       "      <td>110.25</td>\n",
       "      <td>7.0</td>\n",
       "      <td>4</td>\n",
       "      <td>0.0</td>\n",
       "      <td>0</td>\n",
       "      <td>15.55</td>\n",
       "      <td>21.33</td>\n",
       "    </tr>\n",
       "    <tr>\n",
       "      <th>3</th>\n",
       "      <td>0.98</td>\n",
       "      <td>514.5</td>\n",
       "      <td>294.0</td>\n",
       "      <td>110.25</td>\n",
       "      <td>7.0</td>\n",
       "      <td>5</td>\n",
       "      <td>0.0</td>\n",
       "      <td>0</td>\n",
       "      <td>15.55</td>\n",
       "      <td>21.33</td>\n",
       "    </tr>\n",
       "    <tr>\n",
       "      <th>4</th>\n",
       "      <td>0.90</td>\n",
       "      <td>563.5</td>\n",
       "      <td>318.5</td>\n",
       "      <td>122.50</td>\n",
       "      <td>7.0</td>\n",
       "      <td>2</td>\n",
       "      <td>0.0</td>\n",
       "      <td>0</td>\n",
       "      <td>20.84</td>\n",
       "      <td>28.28</td>\n",
       "    </tr>\n",
       "  </tbody>\n",
       "</table>\n",
       "</div>"
      ],
      "text/plain": [
       "     X1     X2     X3      X4   X5  X6   X7  X8     Y1     Y2\n",
       "0  0.98  514.5  294.0  110.25  7.0   2  0.0   0  15.55  21.33\n",
       "1  0.98  514.5  294.0  110.25  7.0   3  0.0   0  15.55  21.33\n",
       "2  0.98  514.5  294.0  110.25  7.0   4  0.0   0  15.55  21.33\n",
       "3  0.98  514.5  294.0  110.25  7.0   5  0.0   0  15.55  21.33\n",
       "4  0.90  563.5  318.5  122.50  7.0   2  0.0   0  20.84  28.28"
      ]
     },
     "execution_count": 3,
     "metadata": {},
     "output_type": "execute_result"
    }
   ],
   "source": [
    "energy_dataset.head()"
   ]
  },
  {
   "cell_type": "markdown",
   "metadata": {},
   "source": [
    "The dataset contains eight attributes (or features, denoted by X1...X8) and two responses (or outcomes, denoted by y1 and y2). The aim is to use the eight features to predict each of the two responses. \n",
    "\n",
    "Specifically: \n",
    "\n",
    "X1\tRelative Compactness \n",
    "\n",
    "X2\tSurface Area \n",
    "\n",
    "X3\tWall Area \n",
    "\n",
    "X4\tRoof Area \n",
    "\n",
    "X5\tOverall Height \n",
    "\n",
    "X6\tOrientation \n",
    "\n",
    "X7\tGlazing Area \n",
    "\n",
    "X8\tGlazing Area Distribution \n",
    "\n",
    "y1\tHeating Load \n",
    "\n",
    "y2\tCooling Load\n",
    "\n",
    "\n",
    "Since Y1 and Y2 are not class labels we will need to analyse those colums and transform those into labels (0 and 1). And at the end we will have binary classification problem."
   ]
  },
  {
   "cell_type": "markdown",
   "metadata": {},
   "source": [
    "## Step 1. Analyse class colums"
   ]
  },
  {
   "cell_type": "code",
   "execution_count": 4,
   "metadata": {
    "collapsed": false
   },
   "outputs": [
    {
     "name": "stdout",
     "output_type": "stream",
     "text": [
      "The highes Heating load is: 43.1\n",
      "The highes Cooling load is: 48.03\n"
     ]
    }
   ],
   "source": [
    "print(\"The highes Heating load is: {}\".format(np.max(energy_dataset['Y1'])))\n",
    "print(\"The highes Cooling load is: {}\".format(np.max(energy_dataset['Y2'])))"
   ]
  },
  {
   "cell_type": "code",
   "execution_count": 5,
   "metadata": {
    "collapsed": false
   },
   "outputs": [
    {
     "name": "stdout",
     "output_type": "stream",
     "text": [
      "The lowest Heating load is: 6.01\n",
      "The lowest Cooling load is: 10.9\n"
     ]
    }
   ],
   "source": [
    "print(\"The lowest Heating load is: {}\".format(np.min(energy_dataset['Y1'])))\n",
    "print(\"The lowest Cooling load is: {}\".format(np.min(energy_dataset['Y2'])))"
   ]
  },
  {
   "cell_type": "markdown",
   "metadata": {},
   "source": [
    "Let's  get additional information about mean and variance of both colums."
   ]
  },
  {
   "cell_type": "code",
   "execution_count": 6,
   "metadata": {
    "collapsed": false
   },
   "outputs": [
    {
     "name": "stdout",
     "output_type": "stream",
     "text": [
      "The mean of Heating load is: 22.30719531249997\n",
      "The mean of Cooling load is: 24.58776041666671\n"
     ]
    }
   ],
   "source": [
    "print(\"The mean of Heating load is: {}\".format(np.mean(energy_dataset['Y1'])))\n",
    "print(\"The mean of Cooling load is: {}\".format(np.mean(energy_dataset['Y2'])))"
   ]
  },
  {
   "cell_type": "code",
   "execution_count": 7,
   "metadata": {
    "collapsed": false
   },
   "outputs": [
    {
     "name": "stdout",
     "output_type": "stream",
     "text": [
      "The standard deviation of Heating load is: 10.08363268719098\n",
      "The standard deviation of Cooling load is: 9.50710998657144\n"
     ]
    }
   ],
   "source": [
    "print(\"The standard deviation of Heating load is: {}\".format(np.std(energy_dataset['Y1'])))\n",
    "print(\"The standard deviation of Cooling load is: {}\".format(np.std(energy_dataset['Y2'])))"
   ]
  },
  {
   "cell_type": "code",
   "execution_count": 8,
   "metadata": {
    "collapsed": false
   },
   "outputs": [
    {
     "data": {
      "image/png": "[encoded data removed]",
      "text/plain": [
       "<matplotlib.figure.Figure at 0x267bcc3ab00>"
      ]
     },
     "metadata": {},
     "output_type": "display_data"
    }
   ],
   "source": [
    "plt.plot(energy_dataset['Y1'])\n",
    "plt.plot(energy_dataset['Y2'])\n",
    "plt.show()"
   ]
  },
  {
   "cell_type": "code",
   "execution_count": 9,
   "metadata": {
    "collapsed": true
   },
   "outputs": [],
   "source": [
    "import scipy.stats as stats"
   ]
  },
  {
   "cell_type": "code",
   "execution_count": 10,
   "metadata": {
    "collapsed": false
   },
   "outputs": [],
   "source": [
    "fit = stats.norm.pdf(energy_dataset['Y2'], np.mean(energy_dataset['Y2']), np.std(energy_dataset['Y2']))"
   ]
  },
  {
   "cell_type": "code",
   "execution_count": 11,
   "metadata": {
    "collapsed": false
   },
   "outputs": [
    {
     "data": {
      "image/png": "[encoded data removed]",
      "text/plain": [
       "<matplotlib.figure.Figure at 0x267be45ed68>"
      ]
     },
     "metadata": {},
     "output_type": "display_data"
    }
   ],
   "source": [
    "plt.plot(energy_dataset['Y2'],fit,)\n",
    "plt.hist(energy_dataset['Y2'], normed=True)\n",
    "plt.show()"
   ]
  },
  {
   "cell_type": "markdown",
   "metadata": {},
   "source": [
    "As we can see, mean of Heating load is 22 and for Cooling load is 24. We are going to set those values as the threshold. So for example, values from Heating load below 22 will be 0 (or low) and \n",
    "above that value will be classified as 1."
   ]
  },
  {
   "cell_type": "markdown",
   "metadata": {},
   "source": [
    "## Step 2. Data preprocessing"
   ]
  },
  {
   "cell_type": "code",
   "execution_count": 12,
   "metadata": {
    "collapsed": true
   },
   "outputs": [],
   "source": [
    "high_heat = energy_dataset.Y1 >= 22\n",
    "low_heat = energy_dataset.Y1 < 22\n",
    "energy_dataset.loc[high_heat,'Y1'] = 1\n",
    "energy_dataset.loc[low_heat,'Y1'] = 0\n",
    "\n",
    "high_cool = energy_dataset.Y2 >= 24\n",
    "low_cool = energy_dataset.Y2 < 24\n",
    "energy_dataset.loc[high_cool,'Y2'] = 1\n",
    "energy_dataset.loc[low_cool,'Y2'] = 0"
   ]
  },
  {
   "cell_type": "code",
   "execution_count": 13,
   "metadata": {
    "collapsed": false
   },
   "outputs": [
    {
     "data": {
      "text/html": [
       "<div>\n",
       "<table border=\"1\" class=\"dataframe\">\n",
       "  <thead>\n",
       "    <tr style=\"text-align: right;\">\n",
       "      <th></th>\n",
       "      <th>X1</th>\n",
       "      <th>X2</th>\n",
       "      <th>X3</th>\n",
       "      <th>X4</th>\n",
       "      <th>X5</th>\n",
       "      <th>X6</th>\n",
       "      <th>X7</th>\n",
       "      <th>X8</th>\n",
       "      <th>Y1</th>\n",
       "      <th>Y2</th>\n",
       "    </tr>\n",
       "  </thead>\n",
       "  <tbody>\n",
       "    <tr>\n",
       "      <th>0</th>\n",
       "      <td>0.98</td>\n",
       "      <td>514.5</td>\n",
       "      <td>294.0</td>\n",
       "      <td>110.25</td>\n",
       "      <td>7.0</td>\n",
       "      <td>2</td>\n",
       "      <td>0.0</td>\n",
       "      <td>0</td>\n",
       "      <td>0.0</td>\n",
       "      <td>0.0</td>\n",
       "    </tr>\n",
       "    <tr>\n",
       "      <th>1</th>\n",
       "      <td>0.98</td>\n",
       "      <td>514.5</td>\n",
       "      <td>294.0</td>\n",
       "      <td>110.25</td>\n",
       "      <td>7.0</td>\n",
       "      <td>3</td>\n",
       "      <td>0.0</td>\n",
       "      <td>0</td>\n",
       "      <td>0.0</td>\n",
       "      <td>0.0</td>\n",
       "    </tr>\n",
       "    <tr>\n",
       "      <th>2</th>\n",
       "      <td>0.98</td>\n",
       "      <td>514.5</td>\n",
       "      <td>294.0</td>\n",
       "      <td>110.25</td>\n",
       "      <td>7.0</td>\n",
       "      <td>4</td>\n",
       "      <td>0.0</td>\n",
       "      <td>0</td>\n",
       "      <td>0.0</td>\n",
       "      <td>0.0</td>\n",
       "    </tr>\n",
       "    <tr>\n",
       "      <th>3</th>\n",
       "      <td>0.98</td>\n",
       "      <td>514.5</td>\n",
       "      <td>294.0</td>\n",
       "      <td>110.25</td>\n",
       "      <td>7.0</td>\n",
       "      <td>5</td>\n",
       "      <td>0.0</td>\n",
       "      <td>0</td>\n",
       "      <td>0.0</td>\n",
       "      <td>0.0</td>\n",
       "    </tr>\n",
       "    <tr>\n",
       "      <th>4</th>\n",
       "      <td>0.90</td>\n",
       "      <td>563.5</td>\n",
       "      <td>318.5</td>\n",
       "      <td>122.50</td>\n",
       "      <td>7.0</td>\n",
       "      <td>2</td>\n",
       "      <td>0.0</td>\n",
       "      <td>0</td>\n",
       "      <td>0.0</td>\n",
       "      <td>1.0</td>\n",
       "    </tr>\n",
       "  </tbody>\n",
       "</table>\n",
       "</div>"
      ],
      "text/plain": [
       "     X1     X2     X3      X4   X5  X6   X7  X8   Y1   Y2\n",
       "0  0.98  514.5  294.0  110.25  7.0   2  0.0   0  0.0  0.0\n",
       "1  0.98  514.5  294.0  110.25  7.0   3  0.0   0  0.0  0.0\n",
       "2  0.98  514.5  294.0  110.25  7.0   4  0.0   0  0.0  0.0\n",
       "3  0.98  514.5  294.0  110.25  7.0   5  0.0   0  0.0  0.0\n",
       "4  0.90  563.5  318.5  122.50  7.0   2  0.0   0  0.0  1.0"
      ]
     },
     "execution_count": 13,
     "metadata": {},
     "output_type": "execute_result"
    }
   ],
   "source": [
    "energy_dataset.head()"
   ]
  },
  {
   "cell_type": "code",
   "execution_count": 14,
   "metadata": {
    "collapsed": true
   },
   "outputs": [],
   "source": [
    "features = energy_dataset.iloc[:, :-2].values\n",
    "labels_heat = energy_dataset.iloc[:, -2].values\n",
    "labels_cool = energy_dataset.iloc[:, -1].values"
   ]
  },
  {
   "cell_type": "code",
   "execution_count": 15,
   "metadata": {
    "collapsed": false
   },
   "outputs": [
    {
     "name": "stdout",
     "output_type": "stream",
     "text": [
      "[[   0.98  514.5   294.    110.25    7.      2.      0.      0.  ]\n",
      " [   0.98  514.5   294.    110.25    7.      3.      0.      0.  ]\n",
      " [   0.98  514.5   294.    110.25    7.      4.      0.      0.  ]\n",
      " [   0.98  514.5   294.    110.25    7.      5.      0.      0.  ]\n",
      " [   0.9   563.5   318.5   122.5     7.      2.      0.      0.  ]\n",
      " [   0.9   563.5   318.5   122.5     7.      3.      0.      0.  ]\n",
      " [   0.9   563.5   318.5   122.5     7.      4.      0.      0.  ]\n",
      " [   0.9   563.5   318.5   122.5     7.      5.      0.      0.  ]\n",
      " [   0.86  588.    294.    147.      7.      2.      0.      0.  ]\n",
      " [   0.86  588.    294.    147.      7.      3.      0.      0.  ]]\n",
      "[ 0.  0.  0.  0.  0.  0.  0.  0.  0.  0.]\n",
      "[ 0.  0.  0.  0.  1.  1.  1.  1.  1.  0.]\n"
     ]
    }
   ],
   "source": [
    "print(features[:10])\n",
    "print(labels_heat[:10])\n",
    "print(labels_cool[:10])"
   ]
  },
  {
   "cell_type": "markdown",
   "metadata": {},
   "source": [
    "### Step 2.1 Scaling data"
   ]
  },
  {
   "cell_type": "code",
   "execution_count": 16,
   "metadata": {
    "collapsed": true
   },
   "outputs": [],
   "source": [
    "from sklearn.preprocessing import StandardScaler"
   ]
  },
  {
   "cell_type": "code",
   "execution_count": 17,
   "metadata": {
    "collapsed": true
   },
   "outputs": [],
   "source": [
    "scaller = StandardScaler()\n",
    "features = scaller.fit_transform(features)"
   ]
  },
  {
   "cell_type": "code",
   "execution_count": 18,
   "metadata": {
    "collapsed": false
   },
   "outputs": [
    {
     "name": "stdout",
     "output_type": "stream",
     "text": [
      "[ 2.04177671 -1.78587489 -0.56195149 -1.47007664  1.         -1.34164079\n",
      " -1.76044698 -1.81457514]\n"
     ]
    }
   ],
   "source": [
    "print(features[0])"
   ]
  },
  {
   "cell_type": "markdown",
   "metadata": {},
   "source": [
    "### Step 2.2 Spliting to training and testing parts"
   ]
  },
  {
   "cell_type": "code",
   "execution_count": 19,
   "metadata": {
    "collapsed": true
   },
   "outputs": [],
   "source": [
    "from sklearn.cross_validation import train_test_split"
   ]
  },
  {
   "cell_type": "code",
   "execution_count": 20,
   "metadata": {
    "collapsed": true
   },
   "outputs": [],
   "source": [
    "X_train_cool, X_test_cool, y_train_cool, y_test_cool = train_test_split(features, labels_cool, test_size=0.3)\n",
    "X_train_heat, X_test_heat, y_train_heat, y_test_heat = train_test_split(features, labels_heat, test_size=0.3)"
   ]
  },
  {
   "cell_type": "markdown",
   "metadata": {},
   "source": [
    "## Step 3. Predicting time"
   ]
  },
  {
   "cell_type": "markdown",
   "metadata": {},
   "source": [
    "### Step 3.1 (Optional) Predicting using custom algorithm"
   ]
  },
  {
   "cell_type": "code",
   "execution_count": 21,
   "metadata": {
    "collapsed": true
   },
   "outputs": [],
   "source": [
    "from naive_b_custom import *"
   ]
  },
  {
   "cell_type": "code",
   "execution_count": 44,
   "metadata": {
    "collapsed": true
   },
   "outputs": [],
   "source": [
    "custom_nb_cold = NaiveBayesClassifier()\n",
    "custom_nb_heat = NaiveBayesClassifier()"
   ]
  },
  {
   "cell_type": "code",
   "execution_count": 45,
   "metadata": {
    "collapsed": false
   },
   "outputs": [],
   "source": [
    "custom_nb_cold.fit(X_train_cool, y_train_cool)\n",
    "custom_nb_heat.fit(X_train_heat, y_train_heat)"
   ]
  },
  {
   "cell_type": "code",
   "execution_count": 74,
   "metadata": {
    "collapsed": false
   },
   "outputs": [
    {
     "name": "stdout",
     "output_type": "stream",
     "text": [
      "Custom naive_cool accuracy:  98.7012987012987\n",
      "Custom naive_heat accuracy:  99.56709956709958\n"
     ]
    }
   ],
   "source": [
    "predicted_custom_cool = custom_nb_cold.predict(X_test_cool, radius=1.3)\n",
    "print(\"Custom naive_cool accuracy: \", accuracy(predicted_custom_cool, y_test_cool))\n",
    "predicted_custom_heat = custom_nb_heat.predict(X_test_heat, radius=1)\n",
    "print(\"Custom naive_heat accuracy: \", accuracy(predicted_custom_heat, y_test_heat))"
   ]
  },
  {
   "cell_type": "markdown",
   "metadata": {},
   "source": [
    "Custom algortihm is working pretty fast and accuracy is stunning. Negative side of my implementation is that you have try and check the best radius, in that means this algorithm\n",
    "can be better."
   ]
  },
  {
   "cell_type": "markdown",
   "metadata": {},
   "source": [
    "### Step 3.2 Predicting using Sklearn"
   ]
  },
  {
   "cell_type": "code",
   "execution_count": 61,
   "metadata": {
    "collapsed": true
   },
   "outputs": [],
   "source": [
    "from sklearn.naive_bayes import GaussianNB"
   ]
  },
  {
   "cell_type": "code",
   "execution_count": 68,
   "metadata": {
    "collapsed": false
   },
   "outputs": [
    {
     "data": {
      "text/plain": [
       "GaussianNB()"
      ]
     },
     "execution_count": 68,
     "metadata": {},
     "output_type": "execute_result"
    }
   ],
   "source": [
    "cold_bayes = GaussianNB()\n",
    "cold_bayes.fit(X_train_cool, y_train_cool)"
   ]
  },
  {
   "cell_type": "code",
   "execution_count": 69,
   "metadata": {
    "collapsed": false
   },
   "outputs": [
    {
     "name": "stdout",
     "output_type": "stream",
     "text": [
      "Cold sklearn accuray: 98.7012987012987\n"
     ]
    }
   ],
   "source": [
    "pred_cold = cold_bayes.predict(X_test_cool)\n",
    "print(\"Cold sklearn accuray: {}\".format(accuracy(pred_cold, y_test_cool)))"
   ]
  },
  {
   "cell_type": "code",
   "execution_count": 70,
   "metadata": {
    "collapsed": false
   },
   "outputs": [
    {
     "data": {
      "text/plain": [
       "GaussianNB()"
      ]
     },
     "execution_count": 70,
     "metadata": {},
     "output_type": "execute_result"
    }
   ],
   "source": [
    "heat_bayes = GaussianNB()\n",
    "heat_bayes.fit(X_train_heat, y_train_heat)"
   ]
  },
  {
   "cell_type": "code",
   "execution_count": 78,
   "metadata": {
    "collapsed": false
   },
   "outputs": [
    {
     "name": "stdout",
     "output_type": "stream",
     "text": [
      "Cold sklearn accuray: 98.7012987012987\n"
     ]
    }
   ],
   "source": [
    "pred_hot = heat_bayes.predict(X_test_heat)\n",
    "print(\"Cold sklearn accuray: {}\".format(accuracy(pred_hot, y_test_heat)))"
   ]
  },
  {
   "cell_type": "code",
   "execution_count": 79,
   "metadata": {
    "collapsed": true
   },
   "outputs": [],
   "source": [
    "from sklearn.cross_validation import cross_val_score"
   ]
  },
  {
   "cell_type": "code",
   "execution_count": 81,
   "metadata": {
    "collapsed": false
   },
   "outputs": [
    {
     "name": "stdout",
     "output_type": "stream",
     "text": [
      "Precision(Heat) =>> P = True_positive / (True_positive + False_positive):  0.95489235541\n",
      "Recalls(Heat) =>> True_positive / (True_positive + False_negative):  1.0\n"
     ]
    }
   ],
   "source": [
    "precisions = cross_val_score(cold_bayes, X_train_heat, y_train_heat, cv=10, scoring='precision')\n",
    "print('Precision(Heat) =>> P = True_positive / (True_positive + False_positive): ', np.mean(precisions))\n",
    "\n",
    "recalls = cross_val_score(cold_bayes, X_train_heat, y_train_heat, cv=5, scoring='recall')\n",
    "print('Recalls(Heat) =>> True_positive / (True_positive + False_negative): ', np.mean(recalls))"
   ]
  },
  {
   "cell_type": "code",
   "execution_count": 82,
   "metadata": {
    "collapsed": false
   },
   "outputs": [
    {
     "name": "stdout",
     "output_type": "stream",
     "text": [
      "Precision(Heat) =>> P = True_positive / (True_positive + False_positive):  0.978174603175\n",
      "Recalls(Heat) =>> True_positive / (True_positive + False_negative):  1.0\n"
     ]
    }
   ],
   "source": [
    "precisions = cross_val_score(heat_bayes, X_train_cool, y_train_cool, cv=10, scoring='precision')\n",
    "print('Precision(Heat) =>> P = True_positive / (True_positive + False_positive): ', np.mean(precisions))\n",
    "\n",
    "recalls = cross_val_score(heat_bayes, X_train_cool, y_train_cool, cv=5, scoring='recall')\n",
    "print('Recalls(Heat) =>> True_positive / (True_positive + False_negative): ', np.mean(recalls))"
   ]
  },
  {
   "cell_type": "markdown",
   "metadata": {},
   "source": [
    "As you can see, in this example, custom algorithm is giving better accuracy than one from sklearn library.\n",
    "Overall we got pretty nice accury (all over 95%)."
   ]
  }
 ],
 "metadata": {
  "kernelspec": {
   "display_name": "Python 3",
   "language": "python",
   "name": "python3"
  },
  "language_info": {
   "codemirror_mode": {
    "name": "ipython",
    "version": 3
   },
   "file_extension": ".py",
   "mimetype": "text/x-python",
   "name": "python",
   "nbconvert_exporter": "python",
   "pygments_lexer": "ipython3",
   "version": "3.5.3"
  }
 },
 "nbformat": 4,
 "nbformat_minor": 0
}
