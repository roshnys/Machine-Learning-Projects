{
 "cells": [
  {
   "cell_type": "markdown",
   "metadata": {},
   "source": [
    "In this notebook we are going to use classic dataset Iris from sklearn :)"
   ]
  },
  {
   "cell_type": "code",
   "execution_count": 1,
   "metadata": {
    "collapsed": true
   },
   "outputs": [],
   "source": [
    "import numpy as np\n",
    "import matplotlib.pyplot as plt\n",
    "from sklearn import datasets\n",
    "%matplotlib inline"
   ]
  },
  {
   "cell_type": "code",
   "execution_count": 2,
   "metadata": {
    "collapsed": false
   },
   "outputs": [],
   "source": [
    "#loading dataset\n",
    "iris_dataset = datasets.load_iris()"
   ]
  },
  {
   "cell_type": "markdown",
   "metadata": {},
   "source": [
    "## Step 1. Preparing dataset"
   ]
  },
  {
   "cell_type": "code",
   "execution_count": 3,
   "metadata": {
    "collapsed": false
   },
   "outputs": [
    {
     "data": {
      "text/plain": [
       "dict_keys(['target_names', 'DESCR', 'target', 'data', 'feature_names'])"
      ]
     },
     "execution_count": 3,
     "metadata": {},
     "output_type": "execute_result"
    }
   ],
   "source": [
    "#The dataset is stored as a dict, we are inspecting datset with this\n",
    "iris_dataset.keys()"
   ]
  },
  {
   "cell_type": "code",
   "execution_count": 4,
   "metadata": {
    "collapsed": true
   },
   "outputs": [],
   "source": [
    "#Getting data from iris dataset\n",
    "data = iris_dataset['data']\n",
    "classes = iris_dataset['target']"
   ]
  },
  {
   "cell_type": "code",
   "execution_count": 5,
   "metadata": {
    "collapsed": false
   },
   "outputs": [
    {
     "name": "stdout",
     "output_type": "stream",
     "text": [
      "[[ 5.1  3.5  1.4  0.2]\n",
      " [ 4.9  3.   1.4  0.2]\n",
      " [ 4.7  3.2  1.3  0.2]\n",
      " [ 4.6  3.1  1.5  0.2]\n",
      " [ 5.   3.6  1.4  0.2]\n",
      " [ 5.4  3.9  1.7  0.4]\n",
      " [ 4.6  3.4  1.4  0.3]\n",
      " [ 5.   3.4  1.5  0.2]\n",
      " [ 4.4  2.9  1.4  0.2]\n",
      " [ 4.9  3.1  1.5  0.1]]\n"
     ]
    }
   ],
   "source": [
    "print(data[:10])"
   ]
  },
  {
   "cell_type": "code",
   "execution_count": 6,
   "metadata": {
    "collapsed": false
   },
   "outputs": [
    {
     "name": "stdout",
     "output_type": "stream",
     "text": [
      "[0 0 0 0 0 0 0 0 0 0]\n",
      "[0 1 2] <-- Classes in our dataset\n"
     ]
    }
   ],
   "source": [
    "print(classes[:10])\n",
    "print(np.unique(classes), \"<-- Classes in our dataset\")"
   ]
  },
  {
   "cell_type": "code",
   "execution_count": 7,
   "metadata": {
    "collapsed": false
   },
   "outputs": [
    {
     "name": "stdout",
     "output_type": "stream",
     "text": [
      "In this dataset we have: 3 classes.\n"
     ]
    }
   ],
   "source": [
    "print('In this dataset we have: {} classes.'.format(np.max(classes) + 1))"
   ]
  },
  {
   "cell_type": "code",
   "execution_count": 8,
   "metadata": {
    "collapsed": false
   },
   "outputs": [
    {
     "name": "stdout",
     "output_type": "stream",
     "text": [
      "['sepal length (cm)', 'sepal width (cm)', 'petal length (cm)', 'petal width (cm)']\n"
     ]
    }
   ],
   "source": [
    "print(iris_dataset['feature_names'])"
   ]
  },
  {
   "cell_type": "code",
   "execution_count": 11,
   "metadata": {
    "collapsed": false
   },
   "outputs": [
    {
     "data": {
      "image/png": "[encoded data removed]",
      "text/plain": [
       "<matplotlib.figure.Figure at 0x1e6d0bdc748>"
      ]
     },
     "metadata": {},
     "output_type": "display_data"
    }
   ],
   "source": [
    "plt.scatter(data[:, 2], data[:, 3])\n",
    "plt.scatter(data[:, 0], data[:, 1])\n",
    "plt.show()"
   ]
  },
  {
   "cell_type": "markdown",
   "metadata": {},
   "source": [
    "As we can see data is not on the same scale. We need to scale data into the same scale and we are going to do that with StandardScaler from sklearn"
   ]
  },
  {
   "cell_type": "markdown",
   "metadata": {},
   "source": [
    "### 1.1 Scaling data"
   ]
  },
  {
   "cell_type": "code",
   "execution_count": 12,
   "metadata": {
    "collapsed": true
   },
   "outputs": [],
   "source": [
    "from sklearn.preprocessing import StandardScaler"
   ]
  },
  {
   "cell_type": "code",
   "execution_count": 14,
   "metadata": {
    "collapsed": false
   },
   "outputs": [],
   "source": [
    "scaler = StandardScaler()\n",
    "scaled_data = scaler.fit_transform(data)"
   ]
  },
  {
   "cell_type": "markdown",
   "metadata": {},
   "source": [
    "### 1.2 Splitting data into training and testing sets"
   ]
  },
  {
   "cell_type": "markdown",
   "metadata": {},
   "source": [
    "Next step in our preprocessing phase is to split data into Training and testing portion. We are doing this so we can test our classifier if it is generalized well on unseen data."
   ]
  },
  {
   "cell_type": "code",
   "execution_count": 15,
   "metadata": {
    "collapsed": true
   },
   "outputs": [],
   "source": [
    "from sklearn.cross_validation import train_test_split"
   ]
  },
  {
   "cell_type": "code",
   "execution_count": 16,
   "metadata": {
    "collapsed": true
   },
   "outputs": [],
   "source": [
    "X_train, X_test, y_train, y_test = train_test_split(scaled_data, classes, test_size=0.3)"
   ]
  },
  {
   "cell_type": "code",
   "execution_count": 19,
   "metadata": {
    "collapsed": false
   },
   "outputs": [
    {
     "name": "stdout",
     "output_type": "stream",
     "text": [
      "X_train has shape: (105, 4)\n",
      "X_test has shape: (45, 4)\n",
      "y_train has shape: (105,)\n",
      "y_test has shape: (45,)\n"
     ]
    }
   ],
   "source": [
    "print(\"X_train has shape: {}\".format(X_train.shape))\n",
    "print(\"X_test has shape: {}\".format(X_test.shape))\n",
    "print(\"y_train has shape: {}\".format(y_train.shape))\n",
    "print(\"y_test has shape: {}\".format(y_test.shape))"
   ]
  },
  {
   "cell_type": "markdown",
   "metadata": {},
   "source": [
    "## Step 2. Predicting "
   ]
  },
  {
   "cell_type": "code",
   "execution_count": 20,
   "metadata": {
    "collapsed": true
   },
   "outputs": [],
   "source": [
    "from sklearn.linear_model import LogisticRegression"
   ]
  },
  {
   "cell_type": "code",
   "execution_count": 77,
   "metadata": {
    "collapsed": true
   },
   "outputs": [],
   "source": [
    "classifer = LogisticRegression(C=1.0, max_iter=1000, solver='newton-cg')"
   ]
  },
  {
   "cell_type": "code",
   "execution_count": 78,
   "metadata": {
    "collapsed": false
   },
   "outputs": [
    {
     "data": {
      "text/plain": [
       "LogisticRegression(C=1.0, class_weight=None, dual=False, fit_intercept=True,\n",
       "          intercept_scaling=1, max_iter=1000, multi_class='ovr', n_jobs=1,\n",
       "          penalty='l2', random_state=None, solver='newton-cg', tol=0.0001,\n",
       "          verbose=0, warm_start=False)"
      ]
     },
     "execution_count": 78,
     "metadata": {},
     "output_type": "execute_result"
    }
   ],
   "source": [
    "classifer.fit(X_train, y_train)"
   ]
  },
  {
   "cell_type": "code",
   "execution_count": 79,
   "metadata": {
    "collapsed": false
   },
   "outputs": [],
   "source": [
    "pred = classifer.predict(X_test)"
   ]
  },
  {
   "cell_type": "code",
   "execution_count": 80,
   "metadata": {
    "collapsed": true
   },
   "outputs": [],
   "source": [
    "from sklearn.metrics import accuracy_score"
   ]
  },
  {
   "cell_type": "code",
   "execution_count": 81,
   "metadata": {
    "collapsed": false
   },
   "outputs": [
    {
     "name": "stdout",
     "output_type": "stream",
     "text": [
      "0.933333333333\n"
     ]
    }
   ],
   "source": [
    "print(accuracy_score(y_test, pred))"
   ]
  },
  {
   "cell_type": "markdown",
   "metadata": {},
   "source": [
    "## Step 3. Finding best parameters with GridSearch"
   ]
  },
  {
   "cell_type": "code",
   "execution_count": 82,
   "metadata": {
    "collapsed": true
   },
   "outputs": [],
   "source": [
    "from sklearn.grid_search import GridSearchCV"
   ]
  },
  {
   "cell_type": "code",
   "execution_count": 90,
   "metadata": {
    "collapsed": false
   },
   "outputs": [],
   "source": [
    "param_grid = {'C':[10, 100, 1000], 'max_iter':[100, 1000, 10000]}"
   ]
  },
  {
   "cell_type": "code",
   "execution_count": 114,
   "metadata": {
    "collapsed": false
   },
   "outputs": [],
   "source": [
    "grid = GridSearchCV(classifer, param_grid=param_grid, verbose=10, cv=5)"
   ]
  },
  {
   "cell_type": "code",
   "execution_count": 115,
   "metadata": {
    "collapsed": false
   },
   "outputs": [
    {
     "name": "stdout",
     "output_type": "stream",
     "text": [
      "Fitting 5 folds for each of 9 candidates, totalling 45 fits\n",
      "[CV] C=10, max_iter=100 ..............................................\n",
      "[CV] ..................... C=10, max_iter=100, score=0.954545 -   0.0s\n",
      "[CV] C=10, max_iter=100 ..............................................\n",
      "[CV] ..................... C=10, max_iter=100, score=1.000000 -   0.0s\n",
      "[CV] C=10, max_iter=100 ..............................................\n",
      "[CV] ..................... C=10, max_iter=100, score=1.000000 -   0.0s\n",
      "[CV] C=10, max_iter=100 ..............................................\n",
      "[CV] ..................... C=10, max_iter=100, score=0.850000 -   0.0s\n",
      "[CV] C=10, max_iter=100 ..............................................\n",
      "[CV] ..................... C=10, max_iter=100, score=0.950000 -   0.0s\n",
      "[CV] C=10, max_iter=1000 .............................................\n",
      "[CV] .................... C=10, max_iter=1000, score=0.954545 -   0.0s\n",
      "[CV] C=10, max_iter=1000 .............................................\n",
      "[CV] .................... C=10, max_iter=1000, score=1.000000 -   0.0s\n",
      "[CV] C=10, max_iter=1000 .............................................\n",
      "[CV] .................... C=10, max_iter=1000, score=1.000000 -   0.0s\n",
      "[CV] C=10, max_iter=1000 .............................................\n",
      "[CV] .................... C=10, max_iter=1000, score=0.850000 -   0.0s\n",
      "[CV] C=10, max_iter=1000 .............................................\n",
      "[CV] .................... C=10, max_iter=1000, score=0.950000 -   0.0s\n",
      "[CV] C=10, max_iter=10000 ............................................\n",
      "[CV] ................... C=10, max_iter=10000, score=0.954545 -   0.0s\n",
      "[CV] C=10, max_iter=10000 ............................................\n",
      "[CV] ................... C=10, max_iter=10000, score=1.000000 -   0.0s\n",
      "[CV] C=10, max_iter=10000 ............................................\n",
      "[CV] ................... C=10, max_iter=10000, score=1.000000 -   0.0s\n",
      "[CV] C=10, max_iter=10000 ............................................\n",
      "[CV] ................... C=10, max_iter=10000, score=0.850000 -   0.0s\n",
      "[CV] C=10, max_iter=10000 ............................................\n",
      "[CV] ................... C=10, max_iter=10000, score=0.950000 -   0.0s\n",
      "[CV] C=100, max_iter=100 .............................................\n",
      "[CV] .................... C=100, max_iter=100, score=0.954545 -   0.0s\n",
      "[CV] C=100, max_iter=100 .............................................\n",
      "[CV] .................... C=100, max_iter=100, score=1.000000 -   0.0s\n",
      "[CV] C=100, max_iter=100 .............................................\n",
      "[CV] .................... C=100, max_iter=100, score=1.000000 -   0.0s\n",
      "[CV] C=100, max_iter=100 .............................................\n",
      "[CV] .................... C=100, max_iter=100, score=0.900000 -   0.0s\n",
      "[CV] C=100, max_iter=100 .............................................\n",
      "[CV] .................... C=100, max_iter=100, score=0.950000 -   0.0s\n",
      "[CV] C=100, max_iter=1000 ............................................\n",
      "[CV] ................... C=100, max_iter=1000, score=0.954545 -   0.0s\n",
      "[CV] C=100, max_iter=1000 ............................................\n",
      "[CV] ................... C=100, max_iter=1000, score=1.000000 -   0.0s\n",
      "[CV] C=100, max_iter=1000 ............................................\n",
      "[CV] ................... C=100, max_iter=1000, score=1.000000 -   0.0s\n",
      "[CV] C=100, max_iter=1000 ............................................\n",
      "[CV] ................... C=100, max_iter=1000, score=0.900000 -   0.0s\n",
      "[CV] C=100, max_iter=1000 ............................................\n",
      "[CV] ................... C=100, max_iter=1000, score=0.950000 -   0.0s\n",
      "[CV] C=100, max_iter=10000 ...........................................\n",
      "[CV] .................. C=100, max_iter=10000, score=0.954545 -   0.0s\n",
      "[CV] C=100, max_iter=10000 ...........................................\n",
      "[CV] .................. C=100, max_iter=10000, score=1.000000 -   0.0s\n",
      "[CV] C=100, max_iter=10000 ...........................................\n"
     ]
    },
    {
     "name": "stderr",
     "output_type": "stream",
     "text": [
      "[Parallel(n_jobs=1)]: Done   1 tasks       | elapsed:    0.0s\n",
      "[Parallel(n_jobs=1)]: Done   4 tasks       | elapsed:    0.0s\n",
      "[Parallel(n_jobs=1)]: Done   7 tasks       | elapsed:    0.0s\n",
      "[Parallel(n_jobs=1)]: Done  12 tasks       | elapsed:    0.0s\n",
      "[Parallel(n_jobs=1)]: Done  17 tasks       | elapsed:    0.0s\n",
      "[Parallel(n_jobs=1)]: Done  24 tasks       | elapsed:    0.1s\n"
     ]
    },
    {
     "name": "stdout",
     "output_type": "stream",
     "text": [
      "[CV] .................. C=100, max_iter=10000, score=1.000000 -   0.0s\n",
      "[CV] C=100, max_iter=10000 ...........................................\n",
      "[CV] .................. C=100, max_iter=10000, score=0.900000 -   0.0s\n",
      "[CV] C=100, max_iter=10000 ...........................................\n",
      "[CV] .................. C=100, max_iter=10000, score=0.950000 -   0.0s\n",
      "[CV] C=1000, max_iter=100 ............................................\n",
      "[CV] ................... C=1000, max_iter=100, score=1.000000 -   0.0s\n",
      "[CV] C=1000, max_iter=100 ............................................\n",
      "[CV] ................... C=1000, max_iter=100, score=1.000000 -   0.0s\n",
      "[CV] C=1000, max_iter=100 ............................................\n",
      "[CV] ................... C=1000, max_iter=100, score=0.952381 -   0.0s\n",
      "[CV] C=1000, max_iter=100 ............................................\n",
      "[CV] ................... C=1000, max_iter=100, score=0.900000 -   0.0s\n",
      "[CV] C=1000, max_iter=100 ............................................\n",
      "[CV] ................... C=1000, max_iter=100, score=0.950000 -   0.0s\n",
      "[CV] C=1000, max_iter=1000 ...........................................\n",
      "[CV] .................. C=1000, max_iter=1000, score=1.000000 -   0.0s\n",
      "[CV] C=1000, max_iter=1000 ...........................................\n",
      "[CV] .................. C=1000, max_iter=1000, score=1.000000 -   0.0s\n",
      "[CV] C=1000, max_iter=1000 ...........................................\n",
      "[CV] .................. C=1000, max_iter=1000, score=0.952381 -   0.0s\n",
      "[CV] C=1000, max_iter=1000 ...........................................\n",
      "[CV] .................. C=1000, max_iter=1000, score=0.900000 -   0.0s\n",
      "[CV] C=1000, max_iter=1000 ...........................................\n",
      "[CV] .................. C=1000, max_iter=1000, score=0.950000 -   0.0s\n",
      "[CV] C=1000, max_iter=10000 ..........................................\n",
      "[CV] ................. C=1000, max_iter=10000, score=1.000000 -   0.0s\n",
      "[CV] C=1000, max_iter=10000 ..........................................\n",
      "[CV] ................. C=1000, max_iter=10000, score=1.000000 -   0.0s\n",
      "[CV] C=1000, max_iter=10000 ..........................................\n",
      "[CV] ................. C=1000, max_iter=10000, score=0.952381 -   0.0s\n",
      "[CV] C=1000, max_iter=10000 ..........................................\n",
      "[CV] ................. C=1000, max_iter=10000, score=0.900000 -   0.0s\n",
      "[CV] C=1000, max_iter=10000 ..........................................\n",
      "[CV] ................. C=1000, max_iter=10000, score=0.950000 -   0.0s\n"
     ]
    },
    {
     "name": "stderr",
     "output_type": "stream",
     "text": [
      "[Parallel(n_jobs=1)]: Done  31 tasks       | elapsed:    0.1s\n",
      "[Parallel(n_jobs=1)]: Done  40 tasks       | elapsed:    0.2s\n",
      "[Parallel(n_jobs=1)]: Done  45 out of  45 | elapsed:    0.3s finished\n"
     ]
    },
    {
     "data": {
      "text/plain": [
       "GridSearchCV(cv=5, error_score='raise',\n",
       "       estimator=LogisticRegression(C=1000.0, class_weight=None, dual=False,\n",
       "          fit_intercept=True, intercept_scaling=1, max_iter=100,\n",
       "          multi_class='ovr', n_jobs=1, penalty='l2', random_state=None,\n",
       "          solver='newton-cg', tol=0.0001, verbose=0, warm_start=False),\n",
       "       fit_params={}, iid=True, n_jobs=1,\n",
       "       param_grid={'C': [10, 100, 1000], 'max_iter': [100, 1000, 10000]},\n",
       "       pre_dispatch='2*n_jobs', refit=True, scoring=None, verbose=10)"
      ]
     },
     "execution_count": 115,
     "metadata": {},
     "output_type": "execute_result"
    }
   ],
   "source": [
    "grid.fit(X_train, y_train)"
   ]
  },
  {
   "cell_type": "code",
   "execution_count": 116,
   "metadata": {
    "collapsed": false
   },
   "outputs": [
    {
     "name": "stdout",
     "output_type": "stream",
     "text": [
      "LogisticRegression(C=100, class_weight=None, dual=False, fit_intercept=True,\n",
      "          intercept_scaling=1, max_iter=100, multi_class='ovr', n_jobs=1,\n",
      "          penalty='l2', random_state=None, solver='newton-cg', tol=0.0001,\n",
      "          verbose=0, warm_start=False)\n"
     ]
    }
   ],
   "source": [
    "print(grid.best_estimator_)"
   ]
  },
  {
   "cell_type": "markdown",
   "metadata": {},
   "source": [
    "## Step 4. Changing hyperparams"
   ]
  },
  {
   "cell_type": "code",
   "execution_count": 118,
   "metadata": {
    "collapsed": false
   },
   "outputs": [],
   "source": [
    "classifer = LogisticRegression(C=1000.0, max_iter=100, solver='newton-cg')"
   ]
  },
  {
   "cell_type": "code",
   "execution_count": 119,
   "metadata": {
    "collapsed": false
   },
   "outputs": [
    {
     "data": {
      "text/plain": [
       "LogisticRegression(C=1000.0, class_weight=None, dual=False,\n",
       "          fit_intercept=True, intercept_scaling=1, max_iter=100,\n",
       "          multi_class='ovr', n_jobs=1, penalty='l2', random_state=None,\n",
       "          solver='newton-cg', tol=0.0001, verbose=0, warm_start=False)"
      ]
     },
     "execution_count": 119,
     "metadata": {},
     "output_type": "execute_result"
    }
   ],
   "source": [
    "classifer.fit(X_train, y_train)"
   ]
  },
  {
   "cell_type": "code",
   "execution_count": 120,
   "metadata": {
    "collapsed": true
   },
   "outputs": [],
   "source": [
    "pred = classifer.predict(X_test)"
   ]
  },
  {
   "cell_type": "code",
   "execution_count": 121,
   "metadata": {
    "collapsed": false
   },
   "outputs": [
    {
     "name": "stdout",
     "output_type": "stream",
     "text": [
      "Accuracy on test after change: 97.77777777777777%\n"
     ]
    }
   ],
   "source": [
    "print(\"Accuracy on test after change: {}%\".format(accuracy_score(y_test, pred)*100))"
   ]
  }
 ],
 "metadata": {
  "kernelspec": {
   "display_name": "Python 3",
   "language": "python",
   "name": "python3"
  },
  "language_info": {
   "codemirror_mode": {
    "name": "ipython",
    "version": 3
   },
   "file_extension": ".py",
   "mimetype": "text/x-python",
   "name": "python",
   "nbconvert_exporter": "python",
   "pygments_lexer": "ipython3",
   "version": "3.5.3"
  }
 },
 "nbformat": 4,
 "nbformat_minor": 0
}
